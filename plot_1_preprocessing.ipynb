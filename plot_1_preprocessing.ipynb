{
  "cells": [
    {
      "cell_type": "code",
      "execution_count": null,
      "metadata": {
        "collapsed": false
      },
      "outputs": [],
      "source": [
        "%matplotlib inline"
      ]
    },
    {
      "cell_type": "markdown",
      "metadata": {},
      "source": [
        "\n# Preprocessing Tutorial\n\nBefore spike sorting, you may need to preproccess your signals in order to improve the spike sorting performance.\nYou can do that in SpikeInterface using the :code:`toolkit.preprocessing` submodule.\n\n\n"
      ]
    },
    {
      "cell_type": "code",
      "execution_count": null,
      "metadata": {
        "collapsed": false
      },
      "outputs": [],
      "source": [
        "import numpy as np\nimport matplotlib.pylab as plt\nimport scipy.signal\n\nimport spikeinterface.extractors as se\nimport spikeinterface.toolkit as st"
      ]
    },
    {
      "cell_type": "markdown",
      "metadata": {},
      "source": [
        "First, let's create a toy example:\n\n"
      ]
    },
    {
      "cell_type": "code",
      "execution_count": null,
      "metadata": {
        "collapsed": false
      },
      "outputs": [],
      "source": [
        "recording, sorting = se.example_datasets.toy_example(num_channels=4, duration=10, seed=0)"
      ]
    },
    {
      "cell_type": "markdown",
      "metadata": {},
      "source": [
        "## Apply filters\n\u00a0\nNow apply a bandpass filter and a notch filter (separately) to the\nrecording extractor. Filters are also RecordingExtractor objects.\n\n"
      ]
    },
    {
      "cell_type": "code",
      "execution_count": null,
      "metadata": {
        "collapsed": false
      },
      "outputs": [],
      "source": [
        "recording_bp = st.preprocessing.bandpass_filter(recording, freq_min=300, freq_max=6000)\nrecording_notch = st.preprocessing.notch_filter(recording, freq=1000, q=10)"
      ]
    },
    {
      "cell_type": "markdown",
      "metadata": {},
      "source": [
        "Now let's plot the power spectrum of non-filtered, bandpass filtered,\nand notch filtered recordings.\n\n"
      ]
    },
    {
      "cell_type": "code",
      "execution_count": null,
      "metadata": {
        "collapsed": false
      },
      "outputs": [],
      "source": [
        "f_raw, p_raw = scipy.signal.welch(recording.get_traces(), fs=recording.get_sampling_frequency())\nf_bp, p_bp = scipy.signal.welch(recording_bp.get_traces(), fs=recording.get_sampling_frequency())\nf_notch, p_notch = scipy.signal.welch(recording_notch.get_traces(), fs=recording.get_sampling_frequency())\n\nfig, ax = plt.subplots()\nax.semilogy(f_raw, p_raw[0], f_bp, p_bp[0], f_notch, p_notch[0])"
      ]
    },
    {
      "cell_type": "markdown",
      "metadata": {},
      "source": [
        "## Compute LFP and MUA\n\u00a0\nLocal field potentials (LFP) are low frequency components of the\nextracellular recordings. Multi-unit activity (MUA) are rectified and\nlow-pass filtered recordings showing the diffuse spiking activity.\n\u00a0\nIn :code:`spiketoolkit`, LFP and MUA can be extracted combining the\n:code:`bandpass_filter`, :code:`rectify` and :code:`resample` functions. In this\nexample LFP and MUA are resampled at 1000 Hz.\n\n"
      ]
    },
    {
      "cell_type": "code",
      "execution_count": null,
      "metadata": {
        "collapsed": false
      },
      "outputs": [],
      "source": [
        "recording_lfp = st.preprocessing.bandpass_filter(recording, freq_min=1, freq_max=300)\nrecording_lfp = st.preprocessing.resample(recording_lfp, 1000)\nrecording_mua = st.preprocessing.resample(st.preprocessing.rectify(recording), 1000)"
      ]
    },
    {
      "cell_type": "markdown",
      "metadata": {},
      "source": [
        "The toy example data are only contain high frequency components, but\n\u00a0these lines of code will work on experimental data\n\n"
      ]
    },
    {
      "cell_type": "markdown",
      "metadata": {},
      "source": [
        "## Change reference\n\nIn many cases, before spike sorting, it is wise to re-reference the\nsignals to reduce the common-mode noise from the recordings.\n\nTo re-reference in :code:`spiketoolkit` you can use the :code:`common_reference`\nfunction. Both common average reference (CAR) and common median\nreference (CMR) can be applied. Moreover, the average/median can be\ncomputed on different groups. Single channels can also be used as\nreference.\n\n"
      ]
    },
    {
      "cell_type": "code",
      "execution_count": null,
      "metadata": {
        "collapsed": false
      },
      "outputs": [],
      "source": [
        "recording_car = st.preprocessing.common_reference(recording, reference='average')\nrecording_cmr = st.preprocessing.common_reference(recording, reference='median')\nrecording_single = st.preprocessing.common_reference(recording, reference='single', ref_channels=[0])\nrecording_single_groups = st.preprocessing.common_reference(recording, reference='single',\n                                                            groups=[[0, 1], [2, 3]], ref_channels=[0, 2])\n\n\nfig1, ax1 = plt.subplots()\nax1.plot(recording_car.get_traces()[0])\nax1.plot(recording_cmr.get_traces()[0])\n\nfig2, ax2 = plt.subplots()\nax2.plot(recording_single_groups.get_traces()[1])  # not zero\nax2.plot(recording_single_groups.get_traces()[0])"
      ]
    },
    {
      "cell_type": "markdown",
      "metadata": {},
      "source": [
        "## Remove bad channels\n\u00a0\nIn to remove noisy channels from the analysis, the\n:code:`remove_bad_channels` function can be used.\n\n"
      ]
    },
    {
      "cell_type": "code",
      "execution_count": null,
      "metadata": {
        "collapsed": false
      },
      "outputs": [],
      "source": [
        "recording_remove_bad = st.preprocessing.remove_bad_channels(recording, bad_channel_ids=[0])\n\nprint(recording_remove_bad.get_channel_ids())"
      ]
    },
    {
      "cell_type": "markdown",
      "metadata": {},
      "source": [
        "As expected, channel 0 is removed. Bad channels removal can also be done\nautomatically. In this case, the channels with a standard deviation\nexceeding :code:`bad_threshold` times the median standard deviation are\nremoved. The standard deviations are computed on the traces with length\n:code:`seconds` from the middle of the recordings.\n\n"
      ]
    },
    {
      "cell_type": "code",
      "execution_count": null,
      "metadata": {
        "collapsed": false
      },
      "outputs": [],
      "source": [
        "recording_remove_bad_auto = st.preprocessing.remove_bad_channels(recording, bad_channel_ids=None, bad_threshold=2,\n                                                                 seconds=2)\n\nprint(recording_remove_bad_auto.get_channel_ids())"
      ]
    },
    {
      "cell_type": "markdown",
      "metadata": {},
      "source": [
        "With these simulated recordings, there are no noisy channel.\n\n"
      ]
    },
    {
      "cell_type": "markdown",
      "metadata": {},
      "source": [
        "Remove stimulation artifacts\n -------------------------------\n \u00a0\n\u00a0In some applications, electrodes are used to electrically stimulate the\n\u00a0tissue, generating a large artifact. In :code:`spiketoolkit`, the artifact\n\u00a0can be zeroed-out using the :code:`remove_artifact` function.\n\n"
      ]
    },
    {
      "cell_type": "code",
      "execution_count": null,
      "metadata": {
        "collapsed": false
      },
      "outputs": [],
      "source": [
        "# create dummy stimulation triggers\nstimulation_trigger_frames = np.array([100000, 500000, 700000])\n\n# large ms_before and s_after are used for plotting only\nrecording_rmartifact = st.preprocessing.remove_artifacts(recording,\n                                                         triggers=stimulation_trigger_frames,\n                                                         ms_before=100, ms_after=200)\n\nfig3, ax3 = plt.subplots()\nax3.plot(recording.get_traces()[0])\nax3.plot(recording_rmartifact.get_traces()[0])"
      ]
    },
    {
      "cell_type": "markdown",
      "metadata": {},
      "source": [
        "You can list the available preprocessors with:\n\n"
      ]
    },
    {
      "cell_type": "code",
      "execution_count": null,
      "metadata": {
        "collapsed": false
      },
      "outputs": [],
      "source": [
        "print(st.preprocessing.preprocessers_full_list)"
      ]
    }
  ],
  "metadata": {
    "kernelspec": {
      "display_name": "Python 3",
      "language": "python",
      "name": "python3"
    },
    "language_info": {
      "codemirror_mode": {
        "name": "ipython",
        "version": 3
      },
      "file_extension": ".py",
      "mimetype": "text/x-python",
      "name": "python",
      "nbconvert_exporter": "python",
      "pygments_lexer": "ipython3",
      "version": "3.6.12"
    }
  },
  "nbformat": 4,
  "nbformat_minor": 0
}